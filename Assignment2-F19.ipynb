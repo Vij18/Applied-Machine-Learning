{
 "cells": [
  {
   "cell_type": "markdown",
   "metadata": {
    "colab_type": "text",
    "id": "R--G1S4LFVR9"
   },
   "source": [
    "CSCI-P556: Applied Machine Learning\n",
    "Fall 2018\n",
    "Assignment #2\n",
    "---\n",
    "\n"
   ]
  },
  {
   "cell_type": "markdown",
   "metadata": {
    "colab_type": "text",
    "id": "Ooye3d-VGooZ"
   },
   "source": [
    "## Problem 1 (50 points)\n",
    "\n",
    "In this problem you will be working with Bank Marketing Dataset. We encourage your to look at the description and make yourself comfortable with it: https://archive.ics.uci.edu/ml/datasets/bank+marketing\n",
    "\n",
    "Two pairs of training and validation sets have been drawn from this dataset for you to work with, namely: \n",
    " -  `train_1.csv` and `valid_1.csv`\n",
    " -  `train_2.csv`and `valid_2.csv`\n",
    " \n",
    "Finally, we have also provided a `test.csv` which is common for both settings.\n",
    "\n",
    "### Task 0: (3 points)\n",
    "\n",
    "What is the difference between the two sets of train/validation sets? Write your answer here:\n",
    "\n",
    "### Ans: \n",
    "\n",
    "Train and Valid set 1: The train set contains 6769 training samples with 16 input features and y as the output. Valid set contains 1693 samples i.e. 25 percent of the training data. Valid data is not a subset of train data.\n",
    "\n",
    "Train and Valid set 2: The train set contains 28934 training samples with 16 input features and y as the output. Valid set contains 7234 samples i.e. again 25 percent of the training data. Valid data is not a subset of train data.\n",
    "\n",
    "\n",
    "Further, \n",
    "Train Set 1 contains 3385 records for y=yes entry and 3384 records for y=no entry. \n",
    "Valid Set 1 contains 846 records for y=yes entry and 847 records for y=no entry.\n",
    "\n",
    "Train Set 2 contains 3385 records for y=yes entry and 25549 records for y=no entry.\n",
    "Valid Set 2 contains 846 records for y=yes entru and 6388 records for y=no entry\n",
    "\n",
    "So the Training and valid set 2 is skewed towards one output i.e y=no. While, Training set 1 is equally distributed among both the classes.\n",
    "\n"
   ]
  },
  {
   "cell_type": "markdown",
   "metadata": {
    "colab_type": "text",
    "id": "MFKZT4mhJlSK"
   },
   "source": [
    "### Task 1 (Data Preprocessing) (12 points)\n",
    "\n",
    "Before you can train a machine learning model using this dataset, you will have to run a number of preprocessing steps to transform the data into a form which will be acceptable to the model. In this task, you are supposed to carry out the follow steps:\n",
    "\n",
    "1.  Find all features that have continuous numeric values and normalize them in the same way as you did in Assignment 1. List those features here.\n",
    "\n",
    "2. Find all categorical features and process them as was discussed in class. List those features and explain what you did.\n",
    "\n",
    "3. Are there any features which have missing values? (Hint: Missing values aren't always nicely represented and can be misleading sometimes). Find those features and explain how you will handle them.\n",
    "\n"
   ]
  },
  {
   "cell_type": "markdown",
   "metadata": {
    "colab_type": "text",
    "id": "uLoZ67_hPo9I"
   },
   "source": [
    "Write your text-based answers here.\n",
    "\n",
    "\n",
    "1. The continuous numeric values are \n",
    "  a) Age\n",
    "  b) Balance\n",
    "  c) Day\n",
    "  d) Duration\n",
    "  e) Campaign\n",
    "  f) pdays\n",
    "  g) previous\n",
    "_______________________________________________________________________________________________________________________________  \n",
    "2. Categorical features are :\n",
    "a) Job b) Marital c) Education d) Default e) Housing f) Loan g) Contact h) Month i) poutcome  j) y\n",
    "\n",
    "    Categorical values can be processed in two ways:\n",
    "    a. Assigning Number to different numerical value to categories in the variable. This is done when we can estimate the importance of any category.\n",
    "\n",
    "    For eg. In Poutcome variable. nonexistent:0, failure:1, Success:2 \n",
    "    Education,Housing,Loan,Contact,Month, poutcome can be encoded in this way\n",
    "\n",
    "    b. One hot coding: Any categorical values can be converted to have numerical features by encoding all the possible combinations with 0's and 1's. And hence, we dont bias the model fitting by giving importance to random categories. \n",
    "\n",
    "    For eg. Job and Marital variables cannot be ranked numerically. In this case, one hot coding is used. \n",
    "_______________________________________________________________________________________________________________________________\n",
    "\n",
    "3. Yes, there are features with unknown values\n",
    "\n",
    "    a. pdays  \n",
    "\n",
    "    Unknown values in pdays is -1.\n",
    "    Since pdays has more than 70% values as -1 replacing this with most repeated element (one of the technique to fill unkown values). After filling the unknown values with mode of the data, most of the values in that would have one value which would not give useful information to the model. That is why I am dropping the column pdays in the preprocessing.\n",
    "\n"
   ]
  },
  {
   "cell_type": "code",
   "execution_count": 199,
   "metadata": {
    "colab": {},
    "colab_type": "code",
    "id": "-kxn7ZjCJpJ2"
   },
   "outputs": [],
   "source": [
    "# PROBLEM 1, TASK 1 CODE GOES HERE\n",
    "import pandas as pd\n",
    "import numpy as np\n",
    "from sklearn import preprocessing\n",
    "\n",
    "train_set1 = pd.read_csv('train_1.csv', sep = \",\")\n",
    "valid_set1= pd.read_csv('valid_1.csv', sep = \",\")\n",
    "train_set2 = pd.read_csv('train_2.csv', sep = \",\")\n",
    "valid_set2 = pd.read_csv('valid_2.csv', sep = \",\")\n",
    "test=pd.read_csv('test.csv', sep = \",\")\n",
    "\n",
    "\n",
    "inp_var_t1,data_output_t1=Data_preprocessing(train_set1)\n",
    "inp_var_v1,data_output_v1=Data_preprocessing(valid_set1)\n",
    "inp_var_t2,data_output_t2=Data_preprocessing(train_set2)\n",
    "inp_var_v2,data_output_v2=Data_preprocessing(valid_set2)\n",
    "\n",
    "inp_var_test,data_output_test=Data_preprocessing(test)\n",
    "\n",
    "def Data_preprocessing(data):\n",
    "    Var= list(data.columns)\n",
    "    categorical_var=[\"job\",\"marital\",\"education\",\"default\",\"housing\",\"loan\",\"contact\",\"month\",\"poutcome\",\"y\"]\n",
    "    output_var=[\"y\"]\n",
    "    col_del=[\"pdays\"]\n",
    "    numerical_var=[i for i in Var if i not in categorical_var+output_var+col_del]\n",
    "    mean_numerical= [np.mean(data[i]) for i in numerical_var]\n",
    "    std_numerical=[np.std(data[i]) for i in numerical_var]\n",
    "    \n",
    "    data_output=data[\"y\"]\n",
    "    data_input=data\n",
    "    data_input=data_input.drop(columns=[\"y\",\"pdays\"])\n",
    "    \n",
    "    # Preprocessing of numerical values\n",
    "    for (ind,val) in enumerate(numerical_var):\n",
    "        data[val]=(data[val]-mean_numerical[ind])/std_numerical[ind]\n",
    "        \n",
    "    #one hot encoding of all the categorical values.\n",
    "    # drop_first is set True because any two variable can be represented\n",
    "    cat_var=pd.get_dummies(data_input,drop_first=True)\n",
    "    \n",
    "    #output variable encoding\n",
    "    dict_y={\"yes\":1,\"no\":0}\n",
    "    data_output=pd.DataFrame(data_output.map(dict_y),columns=[\"y\"])\n",
    "    \n",
    "    return cat_var,data_output\n"
   ]
  },
  {
   "cell_type": "markdown",
   "metadata": {
    "colab_type": "text",
    "id": "5EaChdKLJjio"
   },
   "source": [
    "### Task 2 (Model $\\mathcal{A}$) (10 points)\n",
    "\n",
    "Train a logistic regression model with $L_2$ regularization on `train_1.csv` after applying the necessary preprocessing steps of Task 1. Use the validation set `valid_1.csv` to choose the best regularization coefficient $\\lambda$. Plot a curve with regularization coefficient in the X axis and the validation accuracy on the Y axis."
   ]
  },
  {
   "cell_type": "code",
   "execution_count": 200,
   "metadata": {
    "colab": {},
    "colab_type": "code",
    "id": "aQGJ10L-KhZh"
   },
   "outputs": [
    {
     "name": "stdout",
     "output_type": "stream",
     "text": [
      "Lambda with high accuracy is 20\n",
      "Accuracy of valid set is 81.86650915534554\n",
      "Accuracy of train set is 83.23238292214508\n",
      "Accuracy of test set is 83.09189428287073\n"
     ]
    },
    {
     "data": {
      "text/plain": [
       "[<matplotlib.lines.Line2D at 0x243fb167160>]"
      ]
     },
     "execution_count": 200,
     "metadata": {},
     "output_type": "execute_result"
    },
    {
     "data": {
      "image/png": "[encoded data removed]",
      "text/plain": [
       "<Figure size 432x288 with 1 Axes>"
      ]
     },
     "metadata": {
      "needs_background": "light"
     },
     "output_type": "display_data"
    }
   ],
   "source": [
    "# PROBLEM 1, TASK 2 CODE GOES HERE\n",
    "from sklearn.linear_model import LogisticRegression\n",
    "import matplotlib.pyplot as plt\n",
    "import warnings\n",
    "\n",
    "#assigning different values to lambda \n",
    "lambda_ = [0.001,0.01,0.1,1,2,3,4,5,6,7,8,9,10,20,30,40,50,100]\n",
    "warnings.filterwarnings(\"ignore\")\n",
    "accuracy_valid=[]\n",
    "accuracy_train=[]\n",
    "for i in lambda_:\n",
    "    #creating a instance for logistic regression\n",
    "    regressor = LogisticRegression(penalty='l2',C=1/i)\n",
    "    regressor.fit(inp_var_t1,data_output_t1)\n",
    "    \n",
    "    #testing for accuracy on valid set\n",
    "    accuracy_valid.append(regressor.score(inp_var_v1,data_output_v1))\n",
    "    accuracy_train.append(regressor.score(inp_var_t1,data_output_t1))\n",
    "\n",
    "#finding the best lambda \n",
    "lambda_final=lambda_[accuracy_valid.index(max(accuracy_valid))]\n",
    "print(\"Lambda with high accuracy is \"+str(lambda_final))\n",
    "\n",
    "regressor_final=LogisticRegression(penalty=\"l2\",C=1/lambda_final)\n",
    "\n",
    "\n",
    "#fit a final model with high accuracy\n",
    "regressor_final.fit(inp_var_t1,data_output_t1)\n",
    "\n",
    "\n",
    "#valid set accuracy\n",
    "print(\"Accuracy of valid set is \"+str(max(accuracy_valid)*100))\n",
    "\n",
    "#train set accuracy\n",
    "print(\"Accuracy of train set is \"+str(max(accuracy_train)*100))\n",
    "\n",
    "#test set accuracy \n",
    "test_set_accuracy=regressor.score(inp_var_test,data_output_test)\n",
    "print(\"Accuracy of test set is \"+str(test_set_accuracy*100))\n",
    "\n",
    "\n",
    "#graph of lambda and accuracy for train and valid set 1\n",
    "plt.plot(lambda_,accuracy_valid,color=\"red\",label=\"Accuracy Graph\")\n"
   ]
  },
  {
   "cell_type": "markdown",
   "metadata": {
    "colab_type": "text",
    "id": "c0UEYv92KnvQ"
   },
   "source": [
    "### Task 3 (Model $\\mathcal{B}$) (5 points)\n",
    "Train a logistic regression model with $L_2$ regularization on `train_2.csv` after applying the necessary preprocessing steps of Task 1. Use the validation set `valid_2.csv` to choose the best regularization coefficient $\\lambda$. Plot a curve with regularization coefficient in the X axis and the validation accuracy on the Y axis."
   ]
  },
  {
   "cell_type": "code",
   "execution_count": 201,
   "metadata": {
    "colab": {},
    "colab_type": "code",
    "id": "izeiBcCTLcM4"
   },
   "outputs": [
    {
     "name": "stdout",
     "output_type": "stream",
     "text": [
      "Lambda with high accuracy is 1\n",
      "Accuracy of valid set is 90.11611833010782\n",
      "Accuracy of train set is 90.29169834796433\n",
      "Accuracy of test set is 89.76003538648678\n"
     ]
    },
    {
     "data": {
      "text/plain": [
       "[<matplotlib.lines.Line2D at 0x243fb1bfdd8>]"
      ]
     },
     "execution_count": 201,
     "metadata": {},
     "output_type": "execute_result"
    },
    {
     "data": {
      "image/png": "[encoded data removed]",
      "text/plain": [
       "<Figure size 432x288 with 1 Axes>"
      ]
     },
     "metadata": {
      "needs_background": "light"
     },
     "output_type": "display_data"
    }
   ],
   "source": [
    "# PROBLEM 1, TASK 3 CODE GOES HERE\n",
    "# PROBLEM 1, TASK 2 CODE GOES HERE\n",
    "from sklearn.linear_model import LogisticRegression\n",
    "import matplotlib.pyplot as plt\n",
    "\n",
    "#assigning different values to lambda \n",
    "lambda_ = [0.001,0.01,0.1,1,2,3,4,5,6,7,8,9,10,20,30,40,50,100]\n",
    "\n",
    "accuracy_valid=[]\n",
    "accuracy_train=[]\n",
    "for i in lambda_:\n",
    "    #creating a instance for logistic regression\n",
    "    regressor = LogisticRegression(penalty='l2',C=1/i)\n",
    "    \n",
    "    #fitting a training data\n",
    "    regressor.fit(inp_var_t2,data_output_t2)\n",
    "    \n",
    "    #testing for accuracy on valid set\n",
    "    accuracy_valid.append(regressor.score(inp_var_v2,data_output_v2))\n",
    "    accuracy_train.append(regressor.score(inp_var_t2,data_output_t2))\n",
    "\n",
    "\n",
    "#finding the best lambda \n",
    "lambda_final=lambda_[accuracy_valid.index(max(accuracy_valid))]\n",
    "print(\"Lambda with high accuracy is \"+str(lambda_final))\n",
    "\n",
    "regressor_final=LogisticRegression(penalty=\"l2\",C=1/lambda_final)\n",
    "\n",
    "#fit a final model with high accuracy\n",
    "regressor_final.fit(inp_var_t2,data_output_t2)\n",
    "\n",
    "#valid set accuracy\n",
    "print(\"Accuracy of valid set is \"+str(max(accuracy_valid)*100))\n",
    "\n",
    "#train set accuracy\n",
    "print(\"Accuracy of train set is \"+str(max(accuracy_train)*100))\n",
    "\n",
    "#test set accuracy \n",
    "test_set_accuracy=regressor.score(inp_var_test,data_output_test)\n",
    "print(\"Accuracy of test set is \"+str(test_set_accuracy*100))\n",
    "\n",
    "#graph of lambda and accuracy for train and valid set 1\n",
    "plt.plot(lambda_,accuracy_valid,color=\"red\",label=\"Accuracy Graph\")\n"
   ]
  },
  {
   "cell_type": "markdown",
   "metadata": {
    "colab_type": "text",
    "id": "8KzsVhHPLd3P"
   },
   "source": [
    "### Task 4 (Model $\\mathcal{C}$) (10 points)\n",
    "\n",
    "As you have seen in class, due to the specific (and smart) choice of the loss function, a logistic regression classifier happens to predict the posterioir probability $p(y|\\mathbf{x})$ for any given sample. It then classifies the samples with $p(y|\\mathbf{x}) > 0.5$ as belonging to class $1$ and the rest as belonging to class $0$. Instead, for a fixed threshold of $0.5$, let us consider a dynamic threshold of $\\theta$ which can be chosen after a model has been trained.\n",
    "\n",
    "$$\n",
    "\\ y=\n",
    "\\begin{cases}\n",
    "1 \\text{ if } p(y|\\mathbf{x}) \\geq \\theta \\\\\n",
    "\\\\\n",
    "0 \\text{ if } p(y|\\mathbf{x}) < \\theta \\\\\n",
    "\\end{cases}\n",
    "$$\n",
    "\n",
    "for $0 \\leq \\theta \\leq 1$.\n",
    "\n",
    "Train a logistic regression model with $L_2$ regularization on `train_2.csv` after applying the necessary preprocessing steps of Task 1. Use the validation set `valid_2.csv` to choose the best combination of regularization coefficient $\\lambda$ and the threshold $\\theta$. The best coefficients has to be selected by you after trying out at least five, non-consecutive values. Visualize all these runs.\n",
    "\n",
    "**Hint**: Look at the documentation of Logistic Regression in sci-kit learn to come up with a plan to implement this."
   ]
  },
  {
   "cell_type": "code",
   "execution_count": 202,
   "metadata": {
    "colab": {},
    "colab_type": "code",
    "id": "zJRVTjjrSTRm"
   },
   "outputs": [
    {
     "name": "stdout",
     "output_type": "stream",
     "text": [
      "Accuracy of valid set is 0.9033729610174177\n",
      "Optimal value of lamba and threshold is 1 & 0.4 respectively\n",
      "Accuracy of train set is 0.9030897905578212\n",
      "Accuracy of test set is 0.9032400751962845\n"
     ]
    },
    {
     "data": {
      "image/png": "[encoded data removed]",
      "text/plain": [
       "<Figure size 432x288 with 1 Axes>"
      ]
     },
     "metadata": {
      "needs_background": "light"
     },
     "output_type": "display_data"
    }
   ],
   "source": [
    "# PROBLEM 1, TASK 4 CODE GOES HERE\n",
    "\n",
    "from sklearn.linear_model import LogisticRegression\n",
    "from sklearn.metrics import accuracy_score\n",
    "import random\n",
    "# initializing lambda\n",
    "lambda_= [0.1,0.2,0.3,0.4,0.5,0.6,0.7,0.8,0.9,1,5,10]\n",
    "\n",
    "# initializing thresholds(theta)\n",
    "theta=[0.1,0.3, 0.4, 0.7,0.75,0.9,1]\n",
    "\n",
    "lam_thr=[]\n",
    "acc_thre=[]\n",
    "acc_lambda=[]\n",
    "acc=[]\n",
    "\n",
    "\n",
    "#takes lambda,threshold,x,y\n",
    "# return accuracy\n",
    "\n",
    "def non_symmetrical_reg(i,j,inp_var,data_output):\n",
    "    \n",
    "    #predicting the probability to manually set the threshold\n",
    "    y_pred=regressor.predict_proba(inp_var)\n",
    "        \n",
    "    y_pred=y_pred[:,1]\n",
    "    y_pred=y_pred>=j\n",
    "    y_pred=[int(i) for i in y_pred]\n",
    "        \n",
    "    lam_thr.append((i,j))\n",
    "        \n",
    "    acc_val=accuracy_score(data_output[\"y\"],y_pred)\n",
    "    \n",
    "    return acc_val\n",
    "\n",
    "for i in lambda_:\n",
    "    #creating instance\n",
    "    regressor=LogisticRegression(penalty=\"l2\",C=1/i)\n",
    "        \n",
    "    #fitting a training data\n",
    "    regressor.fit(inp_var_t2,data_output_t2)\n",
    "    for j in theta:\n",
    "        \n",
    "        acc_val=non_symmetrical_reg(i,j,inp_var_v2,data_output_v2)\n",
    "        \n",
    "        acc.append(acc_val)\n",
    "        acc_thre.append(acc_val)\n",
    "        # plotting the graph of \n",
    "    \n",
    "    plt.plot(theta,acc_thre,color=np.random.rand(3,),label=\"lambda\"+str(i))\n",
    "    acc_lambda.append(acc_thre)\n",
    "    acc_thre=[]\n",
    "\n",
    "print(\"Accuracy of valid set is \"+str(max(acc)))\n",
    "print(\"Optimal value of lamba and threshold is \" +str(lam_thr[acc.index(max(acc))][0])+\" & \"+str(lam_thr[acc.index(max(acc))][1])+\" respectively\")\n",
    "\n",
    "acc_val_train=non_symmetrical_reg(lam_thr[acc.index(max(acc))][0],lam_thr[acc.index(max(acc))][1],inp_var_t2,data_output_t2)\n",
    "print(\"Accuracy of train set is \"+str(acc_val_train))\n",
    "\n",
    "acc_val_test=non_symmetrical_reg(lam_thr[acc.index(max(acc))][0],lam_thr[acc.index(max(acc))][1],inp_var_test,data_output_test)\n",
    "print(\"Accuracy of test set is \"+str(acc_val_test))\n",
    "\n",
    "plt.xlabel(\"Theta\")\n",
    "plt.ylabel(\"Accuracy\")\n",
    "plt.legend()\n",
    "plt.show()\n",
    "\n"
   ]
  },
  {
   "cell_type": "markdown",
   "metadata": {
    "colab_type": "text",
    "id": "cTa2tMCPQmCV"
   },
   "source": [
    "### Task 5 (Report and Conclusion) (10 points)\n",
    "\n",
    "1.  Give a detailed report on the performance (that is, accuracy) of Models $\\mathcal{A}$, $\\mathcal{B}$ and $\\mathcal{C}$ on the respective training sets, the validation sets and finally the test. Explain any intuition you might have on what might be happening in each of the cases. Please avoid writing unnecessary details which are not pertinent.\n",
    "_______________________________________________________________________________________________________________________________\n",
    "-- Model A: Since this model is trained for small dataset(not enough data to learn the accurate decision boundary). The accuracy for valid,test and train are less. Lambda for high accuracy is 20.\n",
    "\n",
    "-- Model B: Since this model has training samples, the accuracy for valid, train and test are high. Since the threshold for this model is fixed to default value (i.e. 0.5), the test set accuracy is low compared to model C. Here, optimal lambda is 1\n",
    "\n",
    "-- Model C: Since this model has training samples same as model B, the accuracy for train accuracy is almost the same. And, the accuracy for the test and valid is slightly high because the optimal threshold (the value at which the data is divided into two classes accurately) for this data is 0.4. Optimal lambda is 4.\n",
    "_______________________________________________________________________________________________________________________________\n",
    "2.  Do you think accuracy, the metric which you have used to find the best hyperparameter in all the above tasks, a good metric in this scenario? Explain your choice.\n",
    "_______________________________________________________________________________________________________________________________\n",
    "-- The data is divided into three parts train, valid and test. \n",
    "In all the model we are tuning the model based on the accuracy obtained from the valid set. In real world senario, any historical data with the output is divided into train and valid set and then the model is applied to the data with unknown output for the predictions. \n",
    "\n",
    "Since we can observe the model's behaviour on unknown data and also compare its prediction with already available output. Accuracy on valid set is the best metric to trigger the parameter.\n",
    "_______________________________________________________________________________________________________________________________"
   ]
  },
  {
   "cell_type": "markdown",
   "metadata": {
    "colab_type": "text",
    "id": "3b62zDpk-O8v"
   },
   "source": [
    "## Problem 2 (50 points)\n",
    "\n",
    "Consider a regression problem in which the input variable $x$ has only one feature and the target variable $y$ is generated from the input variable $x$ by a polynomial $f(x)$. The function $f$ is such that $$f(x) = \\sum_{i=0}^d w_ix^i$$ Please note that a given polynomial function can be completely described by the vector of coefficients $\\mathbf{w}$.\n",
    "\n",
    "### Task 1 (5 points)\n",
    "\n",
    "Write a function in python which can take the degree of polynomial function as input. The code to generate vector coefficeints $\\mathbf{w}$ using this input is already provided. Plot the resulting function for $x \\in (-low, high)$. The function should be plot "
   ]
  },
  {
   "cell_type": "code",
   "execution_count": 203,
   "metadata": {
    "colab": {},
    "colab_type": "code",
    "id": "ivzCo28P_SFW"
   },
   "outputs": [
    {
     "name": "stderr",
     "output_type": "stream",
     "text": [
      "WARNING:matplotlib.legend:No handles with labels found to put in legend.\n"
     ]
    },
    {
     "data": {
      "image/png": "[encoded data removed]",
      "text/plain": [
       "<Figure size 432x288 with 1 Axes>"
      ]
     },
     "metadata": {
      "needs_background": "light"
     },
     "output_type": "display_data"
    }
   ],
   "source": [
    "import numpy as np\n",
    "from scipy.special import legendre\n",
    "\n",
    "def get_coefficients(degree):\n",
    "    \"\"\"\n",
    "    The coefficients returned are in the order w_0, w_1, ... , w_{degree}\n",
    "    \"\"\"\n",
    "    return legendre(degree).coefficients[::-1]\n",
    "\n",
    "def visualize_function(degree, low, high):\n",
    "    w = get_coefficients(degree)\n",
    "    \n",
    "    # creating an array for x\n",
    "    x_range = np.arange(low,high, 0.01)\n",
    "    y=[]\n",
    "    for i in x_range:\n",
    "        summ=0\n",
    "        for j in range(degree+1):\n",
    "            summ=summ+(w[j]*(i**(j)))\n",
    "        y.append(summ)\n",
    "        \n",
    "    plt.plot(x_range,y,label=\"Plot of X vs y\")\n",
    "\n",
    "plt.xlabel(\"X\")\n",
    "plt.ylabel(\"Y\")\n",
    "plt.legend()\n",
    "\n",
    "## TEST CASES (The following lines should plot a function)\n",
    "#visualize_function(3, -1, 1)\n",
    "#visualize_function(4, -1, 1)\n",
    "visualize_function(6, -1, 1)\n",
    "\n"
   ]
  },
  {
   "cell_type": "markdown",
   "metadata": {
    "colab_type": "text",
    "id": "z8Mm1YGNBH5u"
   },
   "source": [
    "### Task 2 (5 points)\n",
    "\n",
    "Write a function in python that randomly generates a dataset (training data + test data). The function should take the degree of target polynomial as input along with the number of points that should be generated for both the training and the test sets. The polynomial will be represented by the vector of coefficients. The code to calculate these coefficients has been provided. The function should also add random normal noise to the target -- i.e. the noise should be drawn from a normal distribution with mean $\\mu=0$ and standard deviation = $\\sigma^2$. Thus: \n",
    "$$y=\\sum_{i=0}^d w_ix^i + \\mathcal{N}(0, \\sigma^2)$$\n",
    "\n"
   ]
  },
  {
   "cell_type": "code",
   "execution_count": 204,
   "metadata": {
    "colab": {},
    "colab_type": "code",
    "id": "ZZ1zxLPvCyDt"
   },
   "outputs": [],
   "source": [
    "def generate_dataset(degree, n_train, n_test, sigma):\n",
    "    \"\"\"\n",
    "    - n_train - Number of training samples\n",
    "    - n_test - Number of test samples\n",
    "    - X_train is an array of size (n_train $\\times$ 1)\n",
    "    - y_train is an array of size (n_train $\\times$ 1)\n",
    "    - X_test is an array of size (n_test $\\times$ 1)\n",
    "    - y_test is an array of size (n_test $\\times$ 1)\n",
    "    \"\"\"\n",
    "    w = get_coefficients(degree)\n",
    "    \n",
    "    # creating an array for x\n",
    "    x_range = np.random.uniform(-1,1,n_train+n_test)\n",
    "    y=[]\n",
    "    for i in x_range:\n",
    "        summ=0\n",
    "        for j in range(degree+1):\n",
    "            summ=summ+(w[j]*(i**(j)))\n",
    "        y.append(summ+np.random.normal(0, sigma))\n",
    "    X_train=x_range[0:n_train]\n",
    "    y_train=y[0:n_train]\n",
    "    X_test=x_range[n_train:]\n",
    "    y_test=y[n_train:]\n",
    "    \n",
    "    return X_train, y_train, X_test, y_test\n",
    "X_train, y_train, X_test, y_test=generate_dataset(2,4,4,4)"
   ]
  },
  {
   "cell_type": "markdown",
   "metadata": {
    "colab_type": "text",
    "id": "et9gTUzy_Sn9"
   },
   "source": [
    "### Task 3 (20 points)\n",
    "\n",
    "1.   Use the function written in Task 2 to generate a dataset of degree $10$, with $20$ samples each in the training and test sets. The standard deviation of the noise should be $0.2$.\n",
    "2.   Plot the generated points of the train set over the function. Make use the function you wrote in Task 1 to do so. The resultant plot should not only contain the function in blue color but also the generated points in the train set in red color.\n",
    "3.   Fit two linear regressions models: $\\mathcal{A}$ and $\\mathcal{B}$ on the given training data. Model $\\mathcal{A}$ should be quadratic and Model $\\mathcal{B}$ should be of degree $10$. How would you create such models?\n",
    "4. Calculate the training error and testing error on both these models and report them nicely in a table.\n",
    "5. Explain the results:\n",
    " - Are the results as expected or surprising? Explain your stance.\n",
    " - Give a detailed explanation of why this happens.\n",
    " \n",
    " **Hint**: You are free (in fact encouraged) to design new experiments under the same paradigm to understand what is happening. You can buttress your explanation with any plots which you might generate from such new experiments.\n",
    "\n",
    " \n",
    "Note: _There is no preference over the size of the answer but please note that you shouldn't write anything that is not pertinent. While being terse, your answer should clearly convey the intuition. Also, use logical number code/text cells---i.e. every subquestion in a given task which can be considered a logical unit should be present in one cell. Do not make one cell unnecessarily long by putting multiple answers in it or split a given answer over multiple cells. Use your best judgement."
   ]
  },
  {
   "cell_type": "code",
   "execution_count": 205,
   "metadata": {},
   "outputs": [
    {
     "data": {
      "text/html": [
       "<div>\n",
       "<style scoped>\n",
       "    .dataframe tbody tr th:only-of-type {\n",
       "        vertical-align: middle;\n",
       "    }\n",
       "\n",
       "    .dataframe tbody tr th {\n",
       "        vertical-align: top;\n",
       "    }\n",
       "\n",
       "    .dataframe thead th {\n",
       "        text-align: right;\n",
       "    }\n",
       "</style>\n",
       "<table border=\"1\" class=\"dataframe\">\n",
       "  <thead>\n",
       "    <tr style=\"text-align: right;\">\n",
       "      <th></th>\n",
       "      <th>degree</th>\n",
       "      <th>Train_set</th>\n",
       "      <th>Test_set</th>\n",
       "    </tr>\n",
       "  </thead>\n",
       "  <tbody>\n",
       "    <tr>\n",
       "      <td>0</td>\n",
       "      <td>2</td>\n",
       "      <td>0.287761</td>\n",
       "      <td>0.258981</td>\n",
       "    </tr>\n",
       "    <tr>\n",
       "      <td>1</td>\n",
       "      <td>10</td>\n",
       "      <td>0.206369</td>\n",
       "      <td>0.288790</td>\n",
       "    </tr>\n",
       "  </tbody>\n",
       "</table>\n",
       "</div>"
      ],
      "text/plain": [
       "   degree  Train_set  Test_set\n",
       "0       2   0.287761  0.258981\n",
       "1      10   0.206369  0.288790"
      ]
     },
     "execution_count": 205,
     "metadata": {},
     "output_type": "execute_result"
    },
    {
     "data": {
      "image/png": "[encoded data removed]",
      "text/plain": [
       "<Figure size 432x288 with 1 Axes>"
      ]
     },
     "metadata": {
      "needs_background": "light"
     },
     "output_type": "display_data"
    }
   ],
   "source": [
    "from sklearn.preprocessing import PolynomialFeatures\n",
    "from sklearn.linear_model import LinearRegression\n",
    "from sklearn.metrics import mean_squared_error, r2_score\n",
    "\n",
    "# Task 3, 1 to 4 problem statements\n",
    "\n",
    "X_train, y_train, X_test, y_test=generate_dataset(10,20,20,0.2)\n",
    "\n",
    "#plotting x's for the train set\n",
    "\n",
    "plt.plot(X_train,y_train,'rx')\n",
    "\n",
    "#visualize the continuous \n",
    "\n",
    "visualize_function(10,-1,1)\n",
    "plt.xlabel(\"X\")\n",
    "plt.ylabel(\"y\")\n",
    "\n",
    "\n",
    "#model training for degree more than 1\n",
    "\n",
    "def poly_regression(X_train,y_train,X_test,y_test,degree):\n",
    "    \n",
    "    X_train = X_train[:, np.newaxis] #converts into list of list [[],[]]\n",
    "    #y_train = y_train[:, np.newaxis] \n",
    "    \n",
    "    # polynomial features \n",
    "    polynomial_features= PolynomialFeatures(degree)\n",
    "    \n",
    "    #getting all the polynomials \n",
    "    X_train_poly = polynomial_features.fit_transform(X_train)\n",
    "    \n",
    "    regressor = LinearRegression()\n",
    "    \n",
    "    regressor.fit(X_train_poly, y_train)\n",
    "\n",
    "    #predict \n",
    "    y_pred_train = regressor.predict(X_train_poly)\n",
    "    \n",
    "    #error train set\n",
    "    rmse_train = np.sqrt(mean_squared_error(y_train,y_pred_train))\n",
    "    \n",
    "    #predict test\n",
    "    y_pred_test = regressor.predict(X_train_poly)\n",
    "    \n",
    "    #error test set\n",
    "    rmse_test = np.sqrt(mean_squared_error(y_test,y_pred_test))\n",
    "    \n",
    "    return rmse_train,rmse_test\n",
    "\n",
    "\n",
    "(rmse_train1,rmse_test1) = poly_regression(X_train,y_train,X_test,y_test,2)\n",
    "(rmse_train2,rmse_test2) = poly_regression(X_train,y_train,X_test,y_test,10)\n",
    "\n",
    "results={\"degree\":(2,10),\"Train_set\":(rmse_train1,rmse_train2),\"Test_set\":(rmse_test1,rmse_test2)}\n",
    "results=pd.DataFrame(results)\n",
    "results\n"
   ]
  },
  {
   "cell_type": "markdown",
   "metadata": {},
   "source": [
    "# Task 3 Problem Statement 5\n",
    "\n",
    "To understand the above results. Let us consider the difference and similarity between the two data\n",
    "\n",
    "1) Both the data set have same number of samples for train and test and are randomly generated where the range of x's in both  the case is similar.\n",
    "\n",
    "2) Both the data set has noise with same standard deviation.\n",
    "\n",
    "3) The only difference in the two dataset is the degree of the input variable.\n",
    "\n",
    "The equation for first model is y=w1*(x^0)+(w2*x^1)+(w3*x^2)\n",
    "The equation for second model is y=w1*(x^0)+(w2*x^1)+...+(w11*x^10)\n",
    "\n",
    "As studied in the class wkt the model overfits the data if there is high polynomiality. Here, we can see that second model has high polynomiality (for x) with 10 features (x,x^2,x^3,...) and also the error for test set is high in this case. While for the first model the test accuracy is high. \n",
    "Thus,\n",
    "1) First model (degree=2) does not overfit the data and has comparable error for test and train set\n",
    "2) Second model (degree=10) does overfit the data and has huge difference in the error for train(less error) and test(high error) \n",
    "\n",
    "Important consideration is that random X's is generated with degree=10. So, speaking about the results. The results are surprising because the model with degree 2 fits data better than model with degree 20.\n"
   ]
  },
  {
   "cell_type": "markdown",
   "metadata": {
    "colab_type": "text",
    "id": "APUqEUWUGmXo"
   },
   "source": [
    "### Task 4 (20 points)\n",
    "\n",
    "1.  Use the function written in Task 2 to generate a dataset of degree 45, with 20 samples each in the training and test sets. There should be no noise in the samples.\n",
    "2.  Repeat steps 2 to 4 from Task 3 for this dataset.\n",
    "3.  This target doesn't have noise like the previous one. Does this make the result surprising? Explain your stance. Also give a detailed explanation of why this happens.\n",
    "\n",
    "**Hint**: You are free (in fact encouraged) to design new experiements under the same paradigm to understand what is happening. You can buttress your explanation with any plots which you might generate from such new experiments."
   ]
  },
  {
   "cell_type": "code",
   "execution_count": 213,
   "metadata": {},
   "outputs": [
    {
     "data": {
      "text/html": [
       "<div>\n",
       "<style scoped>\n",
       "    .dataframe tbody tr th:only-of-type {\n",
       "        vertical-align: middle;\n",
       "    }\n",
       "\n",
       "    .dataframe tbody tr th {\n",
       "        vertical-align: top;\n",
       "    }\n",
       "\n",
       "    .dataframe thead th {\n",
       "        text-align: right;\n",
       "    }\n",
       "</style>\n",
       "<table border=\"1\" class=\"dataframe\">\n",
       "  <thead>\n",
       "    <tr style=\"text-align: right;\">\n",
       "      <th></th>\n",
       "      <th>degree</th>\n",
       "      <th>Train_set</th>\n",
       "      <th>Test_set</th>\n",
       "    </tr>\n",
       "  </thead>\n",
       "  <tbody>\n",
       "    <tr>\n",
       "      <td>0</td>\n",
       "      <td>2</td>\n",
       "      <td>18922.42779</td>\n",
       "      <td>37.313240</td>\n",
       "    </tr>\n",
       "    <tr>\n",
       "      <td>1</td>\n",
       "      <td>10</td>\n",
       "      <td>37.31324</td>\n",
       "      <td>28514.912176</td>\n",
       "    </tr>\n",
       "  </tbody>\n",
       "</table>\n",
       "</div>"
      ],
      "text/plain": [
       "   degree    Train_set      Test_set\n",
       "0       2  18922.42779     37.313240\n",
       "1      10     37.31324  28514.912176"
      ]
     },
     "execution_count": 213,
     "metadata": {},
     "output_type": "execute_result"
    },
    {
     "data": {
      "image/png": "[encoded data removed]",
      "text/plain": [
       "<Figure size 432x288 with 1 Axes>"
      ]
     },
     "metadata": {
      "needs_background": "light"
     },
     "output_type": "display_data"
    }
   ],
   "source": [
    "# Task 3, 1st problem\n",
    "\n",
    "X_train, y_train, X_test, y_test=generate_dataset(45,20,20,0)\n",
    "\n",
    "#plotting x's for the train set\n",
    "\n",
    "plt.plot(X_train,y_train,'rx')\n",
    "\n",
    "#visualize the continuous \n",
    "\n",
    "visualize_function(45,-1,1)\n",
    "plt.xlabel(\"X\")\n",
    "plt.ylabel(\"y\")\n",
    "\n",
    "\n",
    "#task 3,4\n",
    "(rmse_train1,rmse_test1) = poly_regression(X_train,y_train,X_test,y_test,2)\n",
    "(rmse_train2,rmse_test2) = poly_regression(X_train,y_train,X_test,y_test,10)\n",
    "\n",
    "results={\"degree\":(2,10),\"Train_set\":(rmse_train1,rmse_train2),\"Test_set\":(rmse_train2,rmse_test2)}\n",
    "results=pd.DataFrame(results)\n",
    "results\n"
   ]
  },
  {
   "cell_type": "markdown",
   "metadata": {},
   "source": [
    "# Task 4 Problem Statement 3\n",
    "\n",
    "The generated data set is for degree=45 without any noise.\n",
    "\n",
    "According to the results, we can see that the train set fits well by the high degree model. So, for high degree polynomial dataset model with higher degree fits well as there is no noise included with the generation of the data.\n",
    "\n",
    "For test data set, again, higher the degree, higher the overfitting of the data. So, high polynomial degree performs bad for test data even in this case. \n",
    "\n",
    "Refer the graph below for the justification of above claim"
   ]
  },
  {
   "cell_type": "code",
   "execution_count": 214,
   "metadata": {},
   "outputs": [
    {
     "name": "stdout",
     "output_type": "stream",
     "text": [
      "Here we can see that as the degree increases model fits the train data well and error decreases(aka overfitting) but the test error increases\n"
     ]
    },
    {
     "data": {
      "image/png": "[encoded data removed]",
      "text/plain": [
       "<Figure size 432x288 with 1 Axes>"
      ]
     },
     "metadata": {
      "needs_background": "light"
     },
     "output_type": "display_data"
    }
   ],
   "source": [
    "#X_train, y_train, X_test, y_test=generate_dataset(45,20,20,0)\n",
    "\n",
    "degree= [ i for i in range(0,100)]\n",
    "rmse_train_l=[]\n",
    "rmse_test_l=[]\n",
    "\n",
    "for i in degree:\n",
    "    (rmse_train1,rmse_test1) = poly_regression(X_train,y_train,X_test,y_test,i)\n",
    "    rmse_train_l.append(rmse_train1)\n",
    "    rmse_test_l.append(rmse_test1) \n",
    "    \n",
    "plt.plot(degree,rmse_train_l,color=\"m\",label=\"Train Set\")\n",
    "plt.plot(degree,rmse_test_l,color=\"b\",label=\"Test Set\")\n",
    "plt.xlabel(\"degree\")\n",
    "plt.ylabel(\"Error\")\n",
    "plt.legend()\n",
    "print(\"Here we can see that as the degree increases model fits the train data well and error decreases(aka overfitting) but the test error increases\")\n",
    "plt.show()"
   ]
  }
 ],
 "metadata": {
  "colab": {
   "collapsed_sections": [],
   "name": "Assignment2.ipynb",
   "provenance": []
  },
  "kernel_info": {
   "name": "python3"
  },
  "kernelspec": {
   "display_name": "Python 3",
   "language": "python",
   "name": "python3"
  },
  "language_info": {
   "codemirror_mode": {
    "name": "ipython",
    "version": 3
   },
   "file_extension": ".py",
   "mimetype": "text/x-python",
   "name": "python",
   "nbconvert_exporter": "python",
   "pygments_lexer": "ipython3",
   "version": "3.6.9"
  },
  "nteract": {
   "version": "0.15.0"
  }
 },
 "nbformat": 4,
 "nbformat_minor": 1
}
