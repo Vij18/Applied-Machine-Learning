{
 "cells": [
  {
   "cell_type": "markdown",
   "metadata": {
    "colab_type": "text",
    "id": "fzMyE386oaaV"
   },
   "source": [
    "**Fall 2019**\n",
    "\n",
    "**P556: Applied Machine Learning**\n",
    "\n",
    "**Assignment #1**\n",
    "\n",
    "**Due date: September 18, 2019. 11:59 PM**\n",
    "\n",
    "DO NOT CHANGE THE FUNCTION DEFINITIONS UNLESS APPROVED BY AN AI."
   ]
  },
  {
   "cell_type": "markdown",
   "metadata": {
    "colab_type": "text",
    "id": "FJz8ZxU7opMy"
   },
   "source": [
    "# Problem #1: Linear Regression\n",
    "\n",
    "##  Problem 1.1 (25 points)\n",
    "\n",
    "Implement linear regression using gradient descent. Your implementation should be able to handle simple and multiple linear regression.\n",
    "\n",
    "Note 1: by implementation we mean that everything has to be written from scratch and that you cannot call a linear regression function from a library, such as sklearn. Usage of standard libraries, such as numpy, pandas, etc., is fine. If you are unsure about whether a library can be used, please contact the AIs well in advance of the submission date.\n",
    "\n",
    "Note 2: You are free to use sklearn to test whether your results match that from a battle-tested library. This is a great way to know before hand whether your submission is correct. Make sure to use the same parameters on both models before you spend an eternity debugging code that is correct but not returning the same values."
   ]
  },
  {
   "cell_type": "code",
   "execution_count": 55,
   "metadata": {
    "colab": {},
    "colab_type": "code",
    "id": "dW1xPyXPoonO"
   },
   "outputs": [
    {
     "data": {
      "text/plain": [
       "'normalize parameter should not be assigned to False since the variables in boston data set has considerable difference \\nin their range and has to be normalized to fit the regression model'"
      ]
     },
     "execution_count": 55,
     "metadata": {},
     "output_type": "execute_result"
    }
   ],
   "source": [
    "import numpy as np\n",
    "\n",
    "class linear_regression:\n",
    "  def __init__(self, learning_rate, iterations, \n",
    "               fit_intercept=True, normalize=False, coef=None):\n",
    "        self.fit_intercept = fit_intercept\n",
    "        self.normalize = normalize\n",
    "        self.learning_rate = learning_rate\n",
    "        self.iterations = iterations\n",
    "        self.coef = coef\n",
    "  \n",
    "  def fit(self, X, y):\n",
    "    \"\"\"\n",
    "    Fit linear model.\n",
    "    Parameters\n",
    "    ----------\n",
    "    X : array-like, shape (n_samples, n_features)\n",
    "        Training data\n",
    "    y : array_like, shape (n_samples, n_targets)\n",
    "        Target values.\n",
    "    \"\"\"\n",
    "    # variable declaration\n",
    "    \n",
    "    num_of_sample,num_of_var=np.shape(X)\n",
    "    \n",
    "    #normalize \n",
    "    if self.normalize:\n",
    "        mean=np.mean(X,axis=0)\n",
    "        std_dev=np.std(X,axis=0)\n",
    "        X=(X-mean)/std_dev\n",
    "        \n",
    "    #intercept handler\n",
    "    if self.fit_intercept:\n",
    "        num_of_var=num_of_var+1\n",
    "        X=np.hstack((np.ones((num_of_sample,1)),X))\n",
    "        \n",
    "    #initializing coef variable to zero\n",
    "    self.coef= np.zeros(num_of_var)\n",
    "    \n",
    "    # calculating coefficients\n",
    "    for i in range(0,self.iterations):\n",
    "        err = (np.dot(X,self.coef)-y)\n",
    "        tmp = np.dot(np.transpose(err),X)\n",
    "        self.coef=self.coef - (self.learning_rate/num_of_sample) * tmp\n",
    "    return self.coef\n",
    "  \n",
    "  def predict(self, X):\n",
    "    \"\"\"Predict using the linear model\n",
    "    Parameters\n",
    "    ----------\n",
    "    X : array_like, shape (n_samples, n_features)\n",
    "        Samples.\n",
    "    Returns\n",
    "    -------\n",
    "    C : array, shape (n_samples,)\n",
    "        Returns predicted values.\n",
    "    \"\"\"\n",
    "    # variable declaration\n",
    "    \n",
    "    num_of_sample,num_of_var=np.shape(X)\n",
    "    \n",
    "    #normalize \n",
    "    if self.normalize:\n",
    "        mean=np.mean(X,axis=0)\n",
    "        std_dev=np.std(X,axis=0)\n",
    "        X=(X-mean)/std_dev\n",
    "        \n",
    "    #intercept handler\n",
    "    if self.fit_intercept:\n",
    "        num_of_var=num_of_var+1\n",
    "        X=np.hstack((np.ones((num_of_sample,1)),X))\n",
    "    \n",
    "    y=np.dot(X,self.coef)\n",
    "    \n",
    "    return y\n",
    "LR=linear_regression(0.01,1500,normalize=True)\n",
    "\n",
    "\"\"\"normalize parameter should not be assigned to False since the variables in boston data set has considerable difference \n",
    "in their range and has to be normalized to fit the regression model\"\"\""
   ]
  },
  {
   "cell_type": "markdown",
   "metadata": {
    "colab_type": "text",
    "id": "Man3c1JrhVbr"
   },
   "source": [
    "## Problem 1.2 (10 points)\n",
    "\n",
    "- Split the Boston Housing dataset into train and test sets (70% and 30%, respectively) (5 points). \n",
    "- Fit your linear regression implementation using the training set and print your model's coefficients. Make predictions for the test set using your fitted model (5 points)."
   ]
  },
  {
   "cell_type": "code",
   "execution_count": 56,
   "metadata": {
    "colab": {},
    "colab_type": "code",
    "id": "VEFBL6WwhXUz"
   },
   "outputs": [
    {
     "name": "stdout",
     "output_type": "stream",
     "text": [
      "Co-efficients for the boston data set\n",
      "[22.67287492 -0.81257277  1.1357154  -0.38980177  0.86307404 -2.12216067\n",
      "  2.18752042 -0.10611489 -3.31986754  2.19427916 -1.11735756 -1.96727878\n",
      "  0.90109127 -3.97621615]\n"
     ]
    }
   ],
   "source": [
    "from sklearn.datasets import load_boston\n",
    "from sklearn.model_selection import train_test_split\n",
    "import matplotlib.pyplot as plt\n",
    "boston=load_boston()\n",
    "\n",
    "X=boston[\"data\"]\n",
    "y=boston[\"target\"]\n",
    "\n",
    "[xtrain,xtest,ytrain,ytest]=train_test_split(X,y,test_size=0.3)\n",
    "coef=LR.fit(xtrain,ytrain)\n",
    "y_pred=LR.predict(xtest)\n",
    "print(\"Co-efficients for the boston data set\")\n",
    "print(coef)"
   ]
  },
  {
   "cell_type": "markdown",
   "metadata": {},
   "source": [
    "## Scikit Learn "
   ]
  },
  {
   "cell_type": "code",
   "execution_count": 57,
   "metadata": {},
   "outputs": [
    {
     "name": "stdout",
     "output_type": "stream",
     "text": [
      "   y_actual     y_pred  y_scikit_pred   MSE_pred  MSE_scikit\n",
      "0      23.0  23.791704      23.735228  19.317378   18.965849\n",
      "1      20.0  22.775170      22.943112  19.317378   18.965849\n",
      "2      22.9  28.600382      29.191593  19.317378   18.965849\n",
      "3      17.0  22.944698      21.446943  19.317378   18.965849\n",
      "4      21.4  25.059887      25.159060  19.317378   18.965849\n"
     ]
    }
   ],
   "source": [
    "from sklearn.linear_model import LinearRegression\n",
    "\n",
    "# initializing the linear regression\n",
    "LR_lib=LinearRegression()\n",
    "#split train and test\n",
    "#fitting the model\n",
    "LR_lib.fit(xtrain,ytrain)\n",
    "\n",
    "#predict\n",
    "y_scikit_pred=LR_lib.predict(xtest)\n",
    "MSE_scikit=np.mean(np.square(y_scikit_pred-ytest))\n",
    "output_cmpare=pd.DataFrame()\n",
    "output_cmpare[\"y_actual\"]=ytest\n",
    "output_cmpare[\"y_pred\"]=y_pred\n",
    "output_cmpare[\"y_scikit_pred\"]=y_scikit_pred\n",
    "output_cmpare[\"MSE_pred\"]=np.mean(np.square(y_pred-ytest))\n",
    "output_cmpare[\"MSE_scikit\"]=MSE_scikit\n",
    "print(output_cmpare.head())"
   ]
  },
  {
   "cell_type": "markdown",
   "metadata": {},
   "source": [
    "## Problem 1.3 (10 points)\n",
    "\n",
    "Identify the variable or set of variables that will minimize the mean square error (MSE). Hint: this is where your function being able to handle simple and multiple regression becomes useful.\n",
    "    "
   ]
  },
  {
   "cell_type": "code",
   "execution_count": 59,
   "metadata": {},
   "outputs": [
    {
     "name": "stdout",
     "output_type": "stream",
     "text": [
      "variables which have minimum MSE\n",
      "('ZN', 'INDUS', 'CHAS', 'RM', 'AGE', 'DIS', 'RAD', 'PTRATIO', 'B')\n"
     ]
    }
   ],
   "source": [
    "from sklearn.metrics import mean_squared_error\n",
    "from itertools import combinations\n",
    "# Your code goes here\n",
    "\n",
    "list_featurename=boston.feature_names\n",
    "inp_df=pd.DataFrame(X,columns=list_featurename)\n",
    "out_df=pd.DataFrame(y)\n",
    "dict_var={}\n",
    "for i in range(2, len(X[0])+2):\n",
    "    comb_inp=list(combinations(list_featurename,i))\n",
    "    for j in comb_inp:\n",
    "        X_subset=inp_df[list(j)]\n",
    "        [xtrain_s,xtest_s,ytrain_s,ytest_s]=train_test_split(X_subset,y,test_size=0.3)\n",
    "        coef=LR.fit(xtrain_s,ytrain_s)\n",
    "        y_pred_s=LR.predict(xtest_s)\n",
    "        MSE_subset=np.mean(np.square(y_pred_s-ytest_s))\n",
    "        dict_var[j]=MSE_subset\n",
    "a=min(dict_var, key=lambda k: dict_var[k])\n",
    "print(\"variables which have minimum MSE\")\n",
    "print(a)"
   ]
  },
  {
   "cell_type": "markdown",
   "metadata": {
    "colab_type": "text",
    "id": "9FXqtD_KhZwV"
   },
   "source": [
    "## Problem 1.4 (5 points)\n",
    "\n",
    "1. How do you interpret that a variable causes a model's mean square error to increase? (2 points)\n",
    "  - Answer: The effect of any variable on the model can be interpreted by observing the correlation between the variable and the output(y). So, an non-corelated variable may increase the models MSE.\n",
    "  Also, variable that has outliers(if not taken care of) may change the curve significantly, which may cause MSE to increase.\n",
    "  \n",
    "2. Why we would want to normalize our variables? (1 point)\n",
    "  - Answer: While fitting linear model to large number of variables, gradient descent takes longer time to converge as the variables might be at different scale. To avoid such instances we normalize to get all the variables in the similar range. \n",
    "  \n",
    "3. A model fitted using the exact same split dataset with normalized values will generate the same coefficients as a model that was fitted using values that haven't been normalized. Clearly state whether that statement is true or false and explain your reasoning. (2 points)\n",
    "  - Answer:False.\n",
    "           Eventhough, model converges to same global minimum irrespective two scale of variables. The coefficients of the two models(1.normalized 2. Not normalized) are different, because the range/scale of the two set differ due to normalization."
   ]
  },
  {
   "cell_type": "markdown",
   "metadata": {
    "colab_type": "text",
    "id": "RJSot41BkMrB"
   },
   "source": [
    "# Problem 2: Binary Classification\n",
    "\n",
    "## Problem 2.1 (5 points)\n",
    "\n",
    "Consider the binary classification problem of mapping a given input to two classes. Let $\\mathcal{X}=\\mathbb{R}^d$ and $\\mathcal{Y}=\\{+1, -1\\}$ be the input space and output space, respectively. In simple words, it means that the input has $d$ features and all of them are real valued, whereas the output can only take values $-1$ or $+1$. This is one of the most common problems in machine learning and many sophisticated methods exist to solve it. In the question, we will solve it using the concepts we have already learned in class. Let us assume the two sets of points can be separated using a straight line i.e. the samples are linearly separable. So if $d=2$, one should be able to draw a line to distinguish between the two classes. All points lying on side of the line should belong to a particular class (say $1$) and the points lying on the other side should belong to another class (say $2$). To see what this would look like,  your first task is as follows:\n",
    "\n",
    "Write a function that will randomly generate a dataset for this problem. Your function should randomly choose a line $l$, which can be denoted as $ax + by + c = 0$. According to basic high school geometry, the line divides the plane into two sides. On one side, $ax+by+c>0$ while on the other $ax+by+c<0$. Use this fact to randomly generate $k_0$ points on the side of class 0 (i.e. $y=-1$) and $k_1$ points on the side of class 1 (i.e. $y=1$). Create a plot of this dataset where all the points corresponding to one class are blue and those of the other class are green, the line dividing both classes should be red. Axes should be labeled.\n",
    "\n",
    "**Note**: Do not confuse the $x$ and $y$ in the equation of line $ax + by + c = 0$ with $\\mathcal{X} $ and $\\mathcal{Y}$. Instead imagine these $x$ and $y$ as the 2-D coordinate system on which you have different points which should lie on 2 sides of the line $ax + by + c = 0$. For example, there is a point (2,3) in the 2-D system where $x = 2$ and $y = 3$."
   ]
  },
  {
   "cell_type": "code",
   "execution_count": 11,
   "metadata": {
    "colab": {},
    "colab_type": "code",
    "id": "g96jFpGyMIFu",
    "scrolled": true
   },
   "outputs": [
    {
     "name": "stdout",
     "output_type": "stream",
     "text": [
      "<class 'numpy.ndarray'>\n"
     ]
    },
    {
     "data": {
      "image/png": "[encoded data removed]",
      "text/plain": [
       "<Figure size 432x288 with 1 Axes>"
      ]
     },
     "metadata": {},
     "output_type": "display_data"
    }
   ],
   "source": [
    "def generate_dataset(k0, k1):\n",
    "    \"\"\"\n",
    "    Parameters\n",
    "    ----------\n",
    "    k0 : integer, number of samples for class 0\n",
    "    k1 : integer, number of samples for class 1\"\"\"\n",
    "    \n",
    "    #Variables of random 2D line chosen\n",
    "    \n",
    "    a=np.random.randint(-150,150)\n",
    "    b=np.random.randint(-150,150)\n",
    "    c=np.random.randint(-150,150)\n",
    "    #ax+by+c=0 is the line\n",
    "    \n",
    "    # Generate the random data point(x)\n",
    "    x_class1=np.random.uniform(-150,150,k0)\n",
    "    x_class2=np.random.uniform(-150,150,k1)\n",
    "    \n",
    "    #calculating another data point based on where it should lie on the coordinate\n",
    "    \n",
    "    y_class1=((c-(a*x_class1))/b)+np.random.uniform(25,75,k0)  # ax+by+c>0\n",
    "    y_class2=((c-(a*x_class2))/b)-np.random.uniform(25,75,k1)   # ax+by+c<0\n",
    "    \n",
    "    x_y_class1=[(x_class1[i],y_class1[i],1) for i in range(len(x_class1))]\n",
    "    x_y_class2=[(x_class2[i],y_class2[i],-1) for i in range(len(x_class2))]\n",
    "    \n",
    "    #plotting the points\n",
    "    plt.plot(x_class1,y_class1,'bo',label=\"points in class1 ax+by+c>0\")\n",
    "    plt.plot(x_class2,y_class2,'g+',label=\"points in class2 ax+by+c<0\")\n",
    "    \n",
    "    #plotting a line\n",
    "    label_line=str(a)+\"x\"+\"+\"+str(b)+\"y\"+\"+\"+\"c\"+\"=\"+\"0\"\n",
    "    x=list(x_class1)+list(x_class2)\n",
    "    x=np.asarray(x)\n",
    "    print(type(x))\n",
    "    y=(-c-(a*x))/b\n",
    "    plt.plot(x,y,'r-',label=label_line)\n",
    "    #label the graph\n",
    "    plt.title(\"graph of points and line\")\n",
    "    plt.xlabel(\"X\")\n",
    "    plt.ylabel(\"y\")\n",
    "    plt.legend()\n",
    "    \"\"\"Returns\n",
    "    -------\n",
    "    X : array, shape (m, d), dimension numpy array where m is the number of \n",
    "    samples and d is the number of features \n",
    "\n",
    "    Y : array, (m, 1), dimension vector where m is the number of samples\n",
    "    \"\"\"\n",
    "    \n",
    "    \n",
    "    \n",
    "    \n",
    "    return(x_y_class1+x_y_class2)\n",
    "#assign number of data points for class1 and class2\n",
    "k0=100\n",
    "k1=200\n",
    "var_bin_dist=generate_dataset(k0,k1)"
   ]
  },
  {
   "cell_type": "markdown",
   "metadata": {
    "colab_type": "text",
    "id": "9mw15CFikXI1"
   },
   "source": [
    "## Problem 2.2 (35 points)\n",
    "\n",
    "If $\\mathcal{Y}$ is the variable you are trying to predict using a feature $\\mathcal{X}$ then in a typical Machine Learning problem, you are tasked with a target function $f$ which maps $\\mathcal{X}$ to $\\mathcal{Y}$ i.e. Find $f$ such that  $\\mathcal{Y}$  = $f(\\mathcal{X})$\n",
    "\n",
    "\n",
    "When you are given a dataset for which you do not have access the target function $f$, you have to learn it from the data. In this problem, we are going to learn the parameters of the line that separates the two classes for the dataset that we constructed in Problem 2.1. As we previously mentioned, that line can be represented as $ax + by + c = 0$.\n",
    "\n",
    "The goal here is to correctly find out the coefficients $a$, $b$, and $c$, represented below as $\\bf{w}$ which is a vector. The algorithm to find it is a simple iterative process: \n",
    "\n",
    "1. Randomly choose a $\\mathbf{w}$ to begin with.\n",
    "2. Keep on adjusting the value of $\\bf{w}$ as follows until all data samples are correctly classified:\n",
    "    1. Randomly choose a sample from the dataset without replacement and see if it is correctly classified. If yes,  move on to another sample.\n",
    "    2. If not,  then  update the weights as $\\mathbf{w}^{t+1} = \\mathbf{w}^t + y \\cdot \\mathbf{x}$\n",
    "    and go back to the previous step (of randomly chosing a sample)\n",
    "    \n",
    "        - $\\mathbf{w}^{t+1}$ is value of $\\mathbf{w}$ at iteration $t+1$\n",
    "        - $\\mathbf{w}^{t}$ is value of $\\mathbf{w}$ at iteration $t$\n",
    "        - $y$ is the class label for the sample under consideration\n",
    "        - $\\mathbf{x}$ is the data-point under consideration\n",
    "    \n",
    "    \n",
    "Write a function that implements this learning algorithm. The input to the function is going to be a dataset represented by the input variable $X$ and the target variable $y$. The output of the function should be the chosen $\\mathbf{w}$.\n",
    "\n"
   ]
  },
  {
   "cell_type": "code",
   "execution_count": 12,
   "metadata": {
    "colab": {},
    "colab_type": "code",
    "id": "SPk7AZaLkXSh"
   },
   "outputs": [
    {
     "name": "stdout",
     "output_type": "stream",
     "text": [
      "Weigths of the line that classifies the dataset\n",
      "[949.52777885 665.25620671 567.        ]\n",
      "<class 'numpy.ndarray'>\n"
     ]
    },
    {
     "data": {
      "image/png": "[encoded data removed]",
      "text/plain": [
       "<Figure size 432x288 with 1 Axes>"
      ]
     },
     "metadata": {},
     "output_type": "display_data"
    }
   ],
   "source": [
    "import pandas as pd\n",
    "def fit_line(X, y):\n",
    "    \"\"\"Predict using the binary classification model. Use the dataset generated \n",
    "    using generate_data() as input for this function.\n",
    "    \n",
    "    Parameters\n",
    "    ----------\n",
    "    X : array_like, shape (n_samples, n_features)\n",
    "        Samples.\n",
    "    y : array_like, shape (n_labels, 1)\"\"\"\n",
    "    \n",
    "    \n",
    "    # w vector is the coefficient vector, length of this is equal to len(X)+1\n",
    "    \n",
    "    # adding the 1 to the last coefficient in X var\n",
    "    X=np.hstack((X,np.ones((len(X),1))))\n",
    "    w=np.random.randint(0,1000,(len(X[0])))\n",
    "    numofvar_classified=0\n",
    "    while numofvar_classified<len(y):\n",
    "        numofvar_classified=0\n",
    "        for j,i in enumerate(X):\n",
    "            y_pred=w.dot(i)\n",
    "            if (y_pred>0) & (y[j]==1):\n",
    "                numofvar_classified+=1\n",
    "            elif (y_pred<0) & (y[j]==-1):\n",
    "                numofvar_classified+=1\n",
    "            else:\n",
    "                w=w+(y[j]*i)\n",
    "                \n",
    "    \"\"\"Returns\n",
    "    -------\n",
    "    w : array, shape (1,n_features)\n",
    "        Returns the final weight vector w.  \n",
    "    \"\"\"\n",
    "    return w\n",
    "\n",
    "input_var=np.asarray(pd.DataFrame(var_bin_dist)[[0,1]])\n",
    "output_var=np.asarray(pd.DataFrame(var_bin_dist)[[2]])\n",
    "w=fit_line(input_var,output_var)\n",
    "print(\"Weigths of the line that classifies the dataset\")\n",
    "print(w)\n",
    "# visualization \n",
    "#two dimensional viz\n",
    "if (len(input_var[0])+1)==3:\n",
    "    x_class1=[i[0] for i in var_bin_dist if i[2]==1]\n",
    "    y_class1=[i[1] for i in var_bin_dist if i[2]==1]\n",
    "    x_class2=[i[0] for i in var_bin_dist if i[2]==-1]\n",
    "    y_class2=[i[1] for i in var_bin_dist if i[2]==-1]\n",
    "    plt.plot(x_class1,y_class1,'bo',label=\"points in class1 ax+by+c>0\")\n",
    "    plt.plot(x_class2,y_class2,'g+',label=\"points in class2 ax+by+c<0\")\n",
    "    a=w[0]\n",
    "    b=w[1]\n",
    "    c=w[2]\n",
    "    \n",
    "    #plotting a line\n",
    "    label_line=str(a)+\"x\"+\"+\"+str(b)+\"y\"+\"+\"+\"c\"+\"=\"+\"0\"\n",
    "    x=list(x_class1)+list(x_class2)\n",
    "    x=np.asarray(x)\n",
    "    print(type(x))\n",
    "    y=(-c-(a*x))/b\n",
    "    plt.plot(x,y,'r-',label=label_line)\n",
    "    #label the graph\n",
    "    plt.title(\"graph of points and line\")\n",
    "    plt.xlabel(\"X\")\n",
    "    plt.ylabel(\"y\")\n",
    "    plt.legend()\n",
    "else:\n",
    "    print(\"Cannot be visualized\")\n"
   ]
  },
  {
   "cell_type": "markdown",
   "metadata": {
    "colab_type": "text",
    "id": "SHc3t4e9MOxu"
   },
   "source": [
    "### Problem 2.3 (10 points)\n",
    "- Give an intuition of why the above algorithm converges for linearly separable data? We do not expect you to give a mathematic proof, but it would be great if you can provide one. You will get full points even if you just provide an intuition of a few lines. Including figures or mathematical equations is encouraged but not required. (5 points)\n",
    "\n",
    "  - Answer: In the above question we are randomly choosing a,b,c( coefficients of the line ax+by+c=0). \n",
    "  Lets just assume that above chosen coefficients incorrectly group all the data on the same side of the line.\n",
    "  Now lets start evaluating the line for its accuracy.\n",
    "  \n",
    "  Take (x,y) and assume the model predicts ax+by+c<0 and let actual y be -1, since the model has incorrectly classified the point. We will update the weight vector. This continues until al the points are classified correctly into respective class\n",
    "  \n",
    "  The update algorithm is:-\n",
    "  If the output is high than the actual output i.e. y>Ypred, increasing the coefficient of the negative variable and decreasing the coefficient of the postive variable will reduce overall output. \n",
    "  \n",
    "    If the output is low than the actual output i.e. y>Ypred, decreasing the coefficient of the negative variable and increasing the coefficient of the postive variable will increase overall output. \n",
    "    \n",
    "    \n",
    "\n",
    "- What happens when the data is not linearly separable? What can be done to salvage the situation?\n",
    "\n",
    "  - Answer: When the data is not linearly separable we can transform the data to linearly separable space. Any data can be transformed to linearly separable space. The transformed data should have following properties \n",
    "  1) T(x1+x2)=T(x1)+T(x2) and T(α * X)=α * T(X), we can use the transformed data to fit the curve. \n",
    "  For eg. y=cx^(2) can be formulated as \n",
    "  x^(2)=z and y=c*z ( which is linearly separable data)"
   ]
  }
 ],
 "metadata": {
  "colab": {
   "name": "A1-F19.ipynb",
   "provenance": [],
   "version": "0.3.2"
  },
  "kernelspec": {
   "display_name": "Python 3",
   "language": "python",
   "name": "python3"
  },
  "language_info": {
   "codemirror_mode": {
    "name": "ipython",
    "version": 3
   },
   "file_extension": ".py",
   "mimetype": "text/x-python",
   "name": "python",
   "nbconvert_exporter": "python",
   "pygments_lexer": "ipython3",
   "version": "3.6.9"
  }
 },
 "nbformat": 4,
 "nbformat_minor": 1
}
